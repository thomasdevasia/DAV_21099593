{
 "cells": [
  {
   "cell_type": "code",
   "execution_count": 16,
   "metadata": {},
   "outputs": [],
   "source": [
    "import json\n",
    "import pandas as pd"
   ]
  },
  {
   "cell_type": "code",
   "execution_count": 20,
   "metadata": {},
   "outputs": [],
   "source": [
    "file = open('./laureate.json')\n",
    "data = json.load(file)['laureates']\n",
    "file.close()"
   ]
  },
  {
   "cell_type": "code",
   "execution_count": 63,
   "metadata": {},
   "outputs": [
    {
     "data": {
      "text/plain": [
       "[{'year': '1902',\n",
       "  'category': 'physics',\n",
       "  'share': '2',\n",
       "  'motivation': '\"in recognition of the extraordinary service they rendered by their researches into the influence of magnetism upon radiation phenomena\"',\n",
       "  'affiliations': [{'name': 'Leiden University',\n",
       "    'city': 'Leiden',\n",
       "    'country': 'the Netherlands'}]}]"
      ]
     },
     "execution_count": 63,
     "metadata": {},
     "output_type": "execute_result"
    }
   ],
   "source": [
    "df = pd.DataFrame(data)\n",
    "df.iloc[1]['prizes']"
   ]
  },
  {
   "cell_type": "code",
   "execution_count": null,
   "metadata": {},
   "outputs": [],
   "source": []
  }
 ],
 "metadata": {
  "interpreter": {
   "hash": "eb7283fd9788cfda168b1dccf80373f772054e01560baa6e6f792909b53000bf"
  },
  "kernelspec": {
   "display_name": "Python 3.9.7 ('dv')",
   "language": "python",
   "name": "python3"
  },
  "language_info": {
   "codemirror_mode": {
    "name": "ipython",
    "version": 3
   },
   "file_extension": ".py",
   "mimetype": "text/x-python",
   "name": "python",
   "nbconvert_exporter": "python",
   "pygments_lexer": "ipython3",
   "version": "3.9.12"
  },
  "orig_nbformat": 4
 },
 "nbformat": 4,
 "nbformat_minor": 2
}
